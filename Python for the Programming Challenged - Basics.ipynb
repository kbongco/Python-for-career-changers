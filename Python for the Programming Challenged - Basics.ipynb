{
 "cells": [
  {
   "cell_type": "markdown",
   "metadata": {},
   "source": [
    "# Python for the Programming Challenged Vol. 1 - Intro"
   ]
  },
  {
   "cell_type": "markdown",
   "metadata": {},
   "source": [
    "## What is Python?"
   ]
  },
  {
   "cell_type": "markdown",
   "metadata": {},
   "source": [
    "Python is an interpreted, object-oriented, high-level programming language that is dynamically typed. Dynamic typing refers to \"type\" as the data- type, which means you have to declare the variables before they are used. (will cover more on that later!) \n",
    "\n",
    "Python has a lot of high-level data structures, as well as a simple approach to object oriented programming. \n",
    "\n",
    "Python is used for: \n",
    "<ul>\n",
    "    <li>Web Development: (Flask, Django) Back - end</li>\n",
    "    <li>Software Development</li>\n",
    "    <li>Data Science</li>\n",
    "    <li>Bioinformatics</li>\n",
    "</ul>\n",
    "\n",
    "These are just some examples of what Python is used for! \n",
    "\n",
    "For reference, this will be written in Python 3, Python 2 is still extremely popular, though I believe\n",
    "2 will be phased out soon. "
   ]
  },
  {
   "cell_type": "markdown",
   "metadata": {},
   "source": [
    "## Why should I learn Python? "
   ]
  },
  {
   "cell_type": "markdown",
   "metadata": {},
   "source": [
    "Python compared to other programming language has a very simple syntax compared to other languages, say for example \n",
    "Java, this makes Python extremely beginner friendly for those who would want to learn how to program. \n",
    "\n",
    "You can also use Python in different platforms such as Windows, Max, Linux, and Raspberry Pi! "
   ]
  },
  {
   "cell_type": "markdown",
   "metadata": {},
   "source": [
    "## Syntax"
   ]
  },
  {
   "cell_type": "markdown",
   "metadata": {},
   "source": [
    "So in order to do your first program in Python, like with all other programming languages we're going to get our interpreter to say \"Hello World\". In order to do this we use the <b>print</b> command."
   ]
  },
  {
   "cell_type": "code",
   "execution_count": 1,
   "metadata": {},
   "outputs": [
    {
     "name": "stdout",
     "output_type": "stream",
     "text": [
      "Hello World\n"
     ]
    }
   ],
   "source": [
    "print(\"Hello World\")"
   ]
  },
  {
   "cell_type": "markdown",
   "metadata": {},
   "source": [
    "It's important to have the quotation marks in between the phrase Hello World otherwise we would get a syntax error! It's also good to know that we can also use <b>#</b> to comment lines in our program. "
   ]
  },
  {
   "cell_type": "code",
   "execution_count": 2,
   "metadata": {},
   "outputs": [
    {
     "name": "stdout",
     "output_type": "stream",
     "text": [
      "Hello World!\n"
     ]
    }
   ],
   "source": [
    "#Here's a comment, my first program! \n",
    "print(\"Hello World!\")"
   ]
  },
  {
   "cell_type": "markdown",
   "metadata": {},
   "source": [
    "Again, as you can see, Hello World gets printed out but what I wrote with the # does not show up! Comments are very helpful especially when you're writing out a long program. Generally when I write out comments, it is helpful because it explains what the program is doing in simple terms!"
   ]
  },
  {
   "cell_type": "markdown",
   "metadata": {},
   "source": [
    "## Using Variables"
   ]
  },
  {
   "cell_type": "code",
   "execution_count": null,
   "metadata": {},
   "outputs": [],
   "source": [
    "#Content Under Construction "
   ]
  }
 ],
 "metadata": {
  "kernelspec": {
   "display_name": "Python 3",
   "language": "python",
   "name": "python3"
  },
  "language_info": {
   "codemirror_mode": {
    "name": "ipython",
    "version": 3
   },
   "file_extension": ".py",
   "mimetype": "text/x-python",
   "name": "python",
   "nbconvert_exporter": "python",
   "pygments_lexer": "ipython3",
   "version": "3.7.0"
  }
 },
 "nbformat": 4,
 "nbformat_minor": 2
}

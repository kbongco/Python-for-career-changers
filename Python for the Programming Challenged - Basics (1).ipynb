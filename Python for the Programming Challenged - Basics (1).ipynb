{
 "cells": [
  {
   "cell_type": "markdown",
   "metadata": {},
   "source": [
    "# Python for the Programming Challenged Vol. 1 - Intro"
   ]
  },
  {
   "cell_type": "markdown",
   "metadata": {},
   "source": [
    "## What is Python?"
   ]
  },
  {
   "cell_type": "markdown",
   "metadata": {},
   "source": [
    "Python is an interpreted, object-oriented, high-level programming language that is dynamically typed. Dynamic typing refers to \"type\" as the data- type, which means you have to declare the variables before they are used. (will cover more on that later!) \n",
    "\n",
    "Python has a lot of high-level data structures, as well as a simple approach to object oriented programming. \n",
    "\n",
    "Python is used for: \n",
    "<ul>\n",
    "    <li>Web Development: (Flask, Django) Back - end</li>\n",
    "    <li>Software Development</li>\n",
    "    <li>Data Science</li>\n",
    "    <li>Bioinformatics</li>\n",
    "</ul>\n",
    "\n",
    "These are just some examples of what Python is used for! \n",
    "\n",
    "For reference, this will be written in Python 3.\n",
    "\n",
    "Sources: <br>\n",
    "<a href=\"https://pythonconquerstheuniverse.wordpress.com/2009/10/03/static-vs-dynamic-typing-of-programming-languages/\">Static Vs Dynamically Typed Language</a><br>\n",
    "<a href=\"https://www.python.org/about/gettingstarted/\">Python for Beginners</a></br>"
   ]
  },
  {
   "cell_type": "markdown",
   "metadata": {},
   "source": [
    "## Why should I learn Python? "
   ]
  },
  {
   "cell_type": "markdown",
   "metadata": {},
   "source": [
    "Python compared to other programming language has a very simple syntax compared to other languages, say for example \n",
    "Java, this makes Python extremely beginner friendly for those who would want to learn how to program. \n",
    "\n",
    "You can also use Python in different platforms such as Windows, Max, Linux, and Raspberry Pi! "
   ]
  },
  {
   "cell_type": "markdown",
   "metadata": {},
   "source": [
    "## Syntax"
   ]
  },
  {
   "cell_type": "markdown",
   "metadata": {},
   "source": [
    "So in order to do your first program in Python, like with all other programming languages we're going to get our interpreter to say \"Hello World\". In order to do this we use the <b>print</b> command."
   ]
  },
  {
   "cell_type": "code",
   "execution_count": 1,
   "metadata": {},
   "outputs": [
    {
     "name": "stdout",
     "output_type": "stream",
     "text": [
      "Hello World\n"
     ]
    }
   ],
   "source": [
    "print(\"Hello World\")"
   ]
  },
  {
   "cell_type": "markdown",
   "metadata": {},
   "source": [
    "It's important to have the quotation marks in between the phrase Hello World otherwise we would get a syntax error! It's also good to know that we can also use <b>#</b> to comment lines in our program. "
   ]
  },
  {
   "cell_type": "code",
   "execution_count": 2,
   "metadata": {},
   "outputs": [
    {
     "name": "stdout",
     "output_type": "stream",
     "text": [
      "Hello World!\n"
     ]
    }
   ],
   "source": [
    "#Here's a comment, my first program! \n",
    "print(\"Hello World!\")"
   ]
  },
  {
   "cell_type": "markdown",
   "metadata": {},
   "source": [
    "Again, as you can see, Hello World gets printed out but what I wrote with the # does not show up! Comments are very helpful especially when you're writing out a long program. Generally when I write out comments, it is helpful because it explains what the program is doing in simple terms!"
   ]
  },
  {
   "cell_type": "markdown",
   "metadata": {},
   "source": [
    "## Using Variables"
   ]
  },
  {
   "cell_type": "markdown",
   "metadata": {},
   "source": [
    "Remember in math class when you had to do algebra and you would see x = 5? And you learned it was a variable. Well they're back in programming! \n",
    "\n",
    "Just like when you first learned algebra back in school, a variable is a container for storing data values. "
   ]
  },
  {
   "cell_type": "code",
   "execution_count": 1,
   "metadata": {},
   "outputs": [
    {
     "name": "stdout",
     "output_type": "stream",
     "text": [
      "3\n"
     ]
    }
   ],
   "source": [
    "x = 3 \n",
    "print(x)"
   ]
  },
  {
   "cell_type": "markdown",
   "metadata": {},
   "source": [
    "As you can see above, Python keeps it simple! You don't have to do a command to declare a variable! "
   ]
  },
  {
   "cell_type": "markdown",
   "metadata": {},
   "source": [
    "You can also assign strings to variables! \n",
    "\n",
    "Strings are characters that are encolsed in a single quote or double quote. "
   ]
  },
  {
   "cell_type": "code",
   "execution_count": 2,
   "metadata": {},
   "outputs": [
    {
     "name": "stdout",
     "output_type": "stream",
     "text": [
      "Hello\n"
     ]
    }
   ],
   "source": [
    "x =\"Hello\"\n",
    "print(x)"
   ]
  },
  {
   "cell_type": "markdown",
   "metadata": {},
   "source": [
    "It's important to know that you need the quotation marks when using strings."
   ]
  },
  {
   "cell_type": "markdown",
   "metadata": {},
   "source": [
    "### Some Rules for Variables"
   ]
  },
  {
   "cell_type": "markdown",
   "metadata": {},
   "source": [
    "A variable can have a short name (like x and y) or a more descriptive name (age, carname, total_volume). Rules for Python variables:<br>\n",
    "A variable name must start with a letter or the underscore character<br>\n",
    "A variable name cannot start with a number<br>\n",
    "A variable name can only contain alpha-numeric characters and underscores (A-z, 0-9, and _ )<br>\n",
    "Variable names are case-sensitive (age, Age and AGE are three different variables)<br>\n",
    "\n",
    "Source<br>\n",
    "<a href=\"http://www.w3schools.com/python/python_variables.asp\">Variable Names</a>"
   ]
  },
  {
   "cell_type": "markdown",
   "metadata": {},
   "source": [
    "## Doing Math in Python"
   ]
  },
  {
   "cell_type": "markdown",
   "metadata": {},
   "source": [
    "Like all programming language, you can do some basic Math in Python too! "
   ]
  },
  {
   "cell_type": "code",
   "execution_count": 6,
   "metadata": {},
   "outputs": [
    {
     "data": {
      "text/plain": [
       "7"
      ]
     },
     "execution_count": 6,
     "metadata": {},
     "output_type": "execute_result"
    }
   ],
   "source": [
    "# Addition Example\n",
    "4 + 3 "
   ]
  },
  {
   "cell_type": "code",
   "execution_count": 8,
   "metadata": {},
   "outputs": [
    {
     "data": {
      "text/plain": [
       "1"
      ]
     },
     "execution_count": 8,
     "metadata": {},
     "output_type": "execute_result"
    }
   ],
   "source": [
    "#Subtraction Example\n",
    "4-3"
   ]
  },
  {
   "cell_type": "code",
   "execution_count": 9,
   "metadata": {},
   "outputs": [
    {
     "data": {
      "text/plain": [
       "9"
      ]
     },
     "execution_count": 9,
     "metadata": {},
     "output_type": "execute_result"
    }
   ],
   "source": [
    "#Multiplication Example\n",
    "3*3 "
   ]
  },
  {
   "cell_type": "code",
   "execution_count": 11,
   "metadata": {},
   "outputs": [
    {
     "data": {
      "text/plain": [
       "3.0"
      ]
     },
     "execution_count": 11,
     "metadata": {},
     "output_type": "execute_result"
    }
   ],
   "source": [
    "#Division Example\n",
    "9/3"
   ]
  },
  {
   "cell_type": "markdown",
   "metadata": {},
   "source": [
    "Whoa! Look at that, there's something different over here compared to the answers in the other numbers. We know that 9 divided by 3 is 3, but Python printed out 3.0, which is also correct.\n",
    "\n",
    "The answer, 3.0 is what is called a <b>float</b>. They represent real numbers and are writen with a decimal point. But then what about the answers in the addition? If there are no deciams they are just considered integers, or <b>int</b>"
   ]
  },
  {
   "cell_type": "code",
   "execution_count": 16,
   "metadata": {},
   "outputs": [
    {
     "data": {
      "text/plain": [
       "3"
      ]
     },
     "execution_count": 16,
     "metadata": {},
     "output_type": "execute_result"
    }
   ],
   "source": [
    "#Modulo Example\n",
    "15 % 6"
   ]
  },
  {
   "cell_type": "markdown",
   "metadata": {},
   "source": [
    "Above is another division operator in Python. This is different it's called the Modulo operator. \n",
    "\n",
    "If you were to do the division on the above problem, you would find that the answer is 3 with a remainder of 3, the Modulo operator would show the remainder as the answer. So it's a good way to check if something is divisible by something. "
   ]
  },
  {
   "cell_type": "code",
   "execution_count": 17,
   "metadata": {},
   "outputs": [
    {
     "data": {
      "text/plain": [
       "0"
      ]
     },
     "execution_count": 17,
     "metadata": {},
     "output_type": "execute_result"
    }
   ],
   "source": [
    "#Modulo with no remainder\n",
    "15 % 3"
   ]
  },
  {
   "cell_type": "code",
   "execution_count": 18,
   "metadata": {},
   "outputs": [
    {
     "data": {
      "text/plain": [
       "100"
      ]
     },
     "execution_count": 18,
     "metadata": {},
     "output_type": "execute_result"
    }
   ],
   "source": [
    "# Exponential \n",
    "10 ** 2 "
   ]
  },
  {
   "cell_type": "markdown",
   "metadata": {},
   "source": [
    "Cool! Now that we've learned a tiny bit of the basics, in the next lesson I'll be talking more about the \n",
    "types, and the basic data structures in Python."
   ]
  },
  {
   "cell_type": "code",
   "execution_count": null,
   "metadata": {},
   "outputs": [],
   "source": []
  }
 ],
 "metadata": {
  "kernelspec": {
   "display_name": "Python 3",
   "language": "python",
   "name": "python3"
  },
  "language_info": {
   "codemirror_mode": {
    "name": "ipython",
    "version": 3
   },
   "file_extension": ".py",
   "mimetype": "text/x-python",
   "name": "python",
   "nbconvert_exporter": "python",
   "pygments_lexer": "ipython3",
   "version": "3.7.0"
  }
 },
 "nbformat": 4,
 "nbformat_minor": 2
}
